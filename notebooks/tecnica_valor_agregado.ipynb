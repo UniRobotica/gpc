{
 "cells": [
  {
   "cell_type": "markdown",
   "metadata": {},
   "source": [
    "# Técnica do Valor Agregado na Construção Civil\n",
    "\n",
    "A Técnica do Valor Agregado (**Earned Value Management - EVM**) é uma abordagem utilizada no gerenciamento de projetos para monitorar custos e prazos.\n",
    "\n",
    "## Introdução\n",
    "\n",
    "### Principais Métricas\n",
    "- **Planned Value (PV)**: O valor planejado até uma data específica.\n",
    "- **Earned Value (EV)**: O valor agregado com base no progresso real.\n",
    "- **Actual Cost (AC)**: O custo real incorrido até o momento.\n",
    "\n",
    "### Indicadores de Desempenho\n",
    "- **Cost Variance (CV)**: Diferença entre EV e AC. (CV = EV - AC).\n",
    "- **Schedule Variance (SV)**: Diferença entre EV e PV. (SV = EV - PV).\n",
    "- **Cost Performance Index (CPI)**: Eficiência de custo (CPI = EV / AC).\n",
    "- **Schedule Performance Index (SPI)**: Eficiência de cronograma (SPI = EV / PV)."
   ]
  },
  {
   "cell_type": "markdown",
   "metadata": {},
   "source": [
    "## Cenário do Projeto\n",
    "Este exemplo representa um projeto de construção civil com cinco etapas principais:\n",
    "1. Fundações\n",
    "2. Estrutura\n",
    "3. Instalações\n",
    "4. Acabamento\n",
    "5. Entrega\n"
   ]
  },
  {
   "cell_type": "code",
   "execution_count": null,
   "metadata": {},
   "outputs": [],
   "source": [
    "# Importação de bibliotecas\n",
    "import pandas as pd\n",
    "import matplotlib.pyplot as plt\n",
    "\n",
    "# Leitura dos dados do projeto\n",
    "df = pd.read_csv('../data/dados_projeto.csv')\n",
    "\n",
    "# Cálculos adicionais\n",
    "df['CV'] = df['Valor Agregado'] - df['Custo Real']\n",
    "df['SV'] = df['Valor Agregado'] - df['Custo Planejado']\n",
    "df['CPI'] = df['Valor Agregado'] / df['Custo Real']\n",
    "df['SPI'] = df['Valor Agregado'] / df['Custo Planejado']\n",
    "\n",
    "# Exibindo os dados\n",
    "df"
   ]
  },
  {
   "cell_type": "markdown",
   "metadata": {},
   "source": [
    "## Visualização dos Indicadores"
   ]
  },
  {
   "cell_type": "code",
   "execution_count": null,
   "metadata": {},
   "outputs": [],
   "source": [
    "# Gráficos para CV e SV\n",
    "fig, ax = plt.subplots(1, 2, figsize=(14, 6))\n",
    "\n",
    "# Gráfico CV\n",
    "ax[0].bar(df['Etapa'], df['CV'], color='orange')\n",
    "ax[0].set_title('Variação de Custo (CV)')\n",
    "ax[0].set_xlabel('Etapas')\n",
    "ax[0].set_ylabel('R$')\n",
    "\n",
    "# Gráfico SV\n",
    "ax[1].bar(df['Etapa'], df['SV'], color='blue')\n",
    "ax[1].set_title('Variação de Cronograma (SV)')\n",
    "ax[1].set_xlabel('Etapas')\n",
    "ax[1].set_ylabel('R$')\n",
    "\n",
    "plt.tight_layout()\n",
    "plt.show()"
   ]
  },
  {
   "cell_type": "markdown",
   "metadata": {},
   "source": [
    "## Interpretação dos Resultados\n",
    "Abaixo estão as interpretações para cada etapa do projeto com base nos indicadores:"
   ]
  },
  {
   "cell_type": "code",
   "execution_count": null,
   "metadata": {},
   "outputs": [],
   "source": [
    "for _, row in df.iterrows():\n",
    "    print(f\"Etapa: {row['Etapa']}\")\n",
    "    print(f\" - CPI: {row['CPI']:.2f} {'(Eficiente)' if row['CPI'] >= 1 else '(Ineficiente)'}\")\n",
    "    print(f\" - SPI: {row['SPI']:.2f} {'(No Prazo)' if row['SPI'] >= 1 else '(Atrasado)'}\")\n",
    "    print()"
   ]
  }
 ]
}
