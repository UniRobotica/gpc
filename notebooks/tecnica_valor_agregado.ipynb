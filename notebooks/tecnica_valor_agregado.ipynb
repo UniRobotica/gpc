{
 "cells": [
  {
   "cell_type": "markdown",
   "metadata": {},
   "source": [
    "# Técnica do Valor Agregado aplicada na Construção Civil\n",
    "\n",
    "A **Técnica do Valor Agregado (Earned Value Management - EVM)** é amplamente utilizada no gerenciamento de projetos para monitorar o desempenho em relação ao cronograma e orçamento. Este notebook demonstra sua aplicação em um projeto fictício de construção civil."
   ]
  },
  {
   "cell_type": "markdown",
   "metadata": {},
   "source": [
    "## Introdução\n",
    "\n",
    "### Principais Conceitos\n",
    "- **PV (Planned Value)**: Valor planejado até uma determinada data.\n",
    "- **EV (Earned Value)**: Valor agregado com base no trabalho realmente realizado.\n",
    "- **AC (Actual Cost)**: Custo real incorrido até o momento.\n",
    "\n",
    "### Indicadores-Chave\n",
    "- **CV (Cost Variance)**: Diferença entre o valor agregado e o custo real (`CV = EV - AC`).\n",
    "- **SV (Schedule Variance)**: Diferença entre o valor agregado e o valor planejado (`SV = EV - PV`).\n",
    "- **CPI (Cost Performance Index)**: Eficiência do custo (`CPI = EV / AC`).\n",
    "- **SPI (Schedule Performance Index)**: Eficiência do cronograma (`SPI = EV / PV`)."
   ]
  },
  {
   "cell_type": "markdown",
   "metadata": {},
   "source": [
    "## Dados do Projeto\n",
    "\n",
    "Neste exemplo, analisamos um projeto de construção civil com 5 etapas principais:\n",
    "- **Fundações**\n",
    "- **Estrutura**\n",
    "- **Instalações**\n",
    "- **Acabamento**\n",
    "- **Entrega**"
   ]
  },
  {
   "cell_type": "code",
   "execution_count": null,
   "metadata": {},
   "outputs": [],
   "source": [
    "# Importação das bibliotecas\n",
    "import pandas as pd\n",
    "import matplotlib.pyplot as plt\n",
    "\n",
    "# Leitura dos dados\n",
    "df = pd.read_csv('../data/dados_projeto.csv')\n",
    "\n",
    "# Cálculo de variáveis adicionais\n",
    "df['CV'] = df['Valor Agregado'] - df['Custo Real']\n",
    "df['SV'] = df['Valor Agregado'] - df['Custo Planejado']\n",
    "df['CPI'] = df['Valor Agregado'] / df['Custo Real']\n",
    "df['SPI'] = df['Valor Agregado'] / df['Custo Planejado']\n",
    "\n",
    "# Visualização dos dados\n",
    "df"
   ]
  },
  {
   "cell_type": "markdown",
   "metadata": {},
   "source": [
    "## Visualização de Indicadores\n",
    "### Variação de Custo (CV) e Cronograma (SV)"
   ]
  },
  {
   "cell_type": "code",
   "execution_count": null,
   "metadata": {},
   "outputs": [],
   "source": [
    "# Gráficos\n",
    "fig, ax = plt.subplots(1, 2, figsize=(14, 6))\n",
    "\n",
    "# Gráfico 1: Variância de Custo\n",
    "ax[0].bar(df['Etapa'], df['CV'], color='orange', label='CV')\n",
    "ax[0].set_title('Variação de Custo (CV)')\n",
    "ax[0].set_xlabel('Etapas')\n",
    "ax[0].set_ylabel('R$')\n",
    "ax[0].legend()\n",
    "\n",
    "# Gráfico 2: Variância de Cronograma\n",
    "ax[1].bar(df['Etapa'], df['SV'], color='blue', label='SV')\n",
    "ax[1].set_title('Variação de Cronograma (SV)')\n",
    "ax[1].set_xlabel('Etapas')\n",
    "ax[1].set_ylabel('R$')\n",
    "ax[1].legend()\n",
    "\n",
    "plt.tight_layout()\n",
    "plt.show()"
   ]
  }
 ]
}
