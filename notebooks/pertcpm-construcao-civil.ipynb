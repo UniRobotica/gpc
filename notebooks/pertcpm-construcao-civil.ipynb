{
 "cells": [
  {
   "cell_type": "markdown",
   "metadata": {},
   "source": [
    "# Análise de PERT/CPM\n",
    "Este notebook realiza uma análise de PERT/CPM baseada no projeto descrito, considerando as atividades, dependências e durações fornecidas.\n",
    "\n",
    "## Objetivos\n",
    "- Determinar o caminho crítico.\n",
    "- Calcular os tempos de início e término (mais cedo e mais tarde).\n",
    "- Gerar gráficos para visualizar o progresso.\n"
   ]
  },
  {
   "cell_type": "code",
   "execution_count": null,
   "metadata": {},
   "outputs": [],
   "source": [
    "# Importar bibliotecas necessárias\n",
    "import pandas as pd\n",
    "import networkx as nx\n",
    "import matplotlib.pyplot as plt\n",
    "import numpy as np\n",
    "import pygraphviz"
   ]
  },
  {
   "cell_type": "markdown",
   "metadata": {},
   "source": [
    "## Carregar Dados do Projeto\n",
    "O arquivo CSV contém as informações das atividades, dependências e durações estimadas."
   ]
  },
  {
   "cell_type": "code",
   "execution_count": null,
   "metadata": {},
   "outputs": [],
   "source": [
    "# Carregar dados do CSV\n",
    "data = pd.DataFrame({\n",
    "    'Atividade': ['A', 'B', 'C', 'D', 'E', 'F', 'G', 'H', 'I', 'J', 'K', 'L', 'M', 'N'],\n",
    "    'Descrição': ['Escavação', 'Fundação', 'Paredes', 'Telhado', 'Encanamento Exterior', \n",
    "                  'Encanamento Interior', 'Muros', 'Pintura Exterior', 'Instalação Elétrica', 'Divisórias', \n",
    "                  'Piso', 'Pintura Interior', 'Acabamento Exterior', 'Acabamento Interior'],\n",
    "    'Atividades Precedentes': [None, 'A', 'B', 'C', 'C', 'E', 'D', 'E,G', 'C', 'F,I', 'J', 'J', 'H', 'K,L'],\n",
    "    'Duração Estimada': [2, 4, 10, 6, 4, 5, 7, 9, 7, 8, 4, 5, 2, 6]\n",
    "})\n",
    "data"
   ]
  },
  {
   "cell_type": "markdown",
   "metadata": {},
   "source": [
    "## Criar o Grafo do Projeto\n",
    "A partir das dependências, construímos um grafo dirigido para representar as relações entre as atividades."
   ]
  },
  {
   "cell_type": "code",
   "execution_count": null,
   "metadata": {},
   "outputs": [],
   "source": [
    "# Criar o grafo de PERT/CPM\n",
    "G = nx.DiGraph()\n",
    "\n",
    "# Adicionar nós e arestas ao grafo\n",
    "for i, row in data.iterrows():\n",
    "    G.add_node(row['Atividade'], duração=row['Duração Estimada'])\n",
    "    if row['Atividades Precedentes']:\n",
    "        precedentes = row['Atividades Precedentes'].split(',')\n",
    "        for p in precedentes:\n",
    "            G.add_edge(p.strip(), row['Atividade'])\n",
    "\n",
    "# Melhorar a visualização do grafo\n",
    "plt.figure(figsize=(16, 9))\n",
    "\n",
    "# Utilizar layout hierárquico com maior espaçamento para evitar sobreposição\n",
    "pos = nx.drawing.nx_agraph.graphviz_layout(G, prog='dot', args=\"-Granksep=1.5 -Gnodesep=1.0\")\n",
    "\n",
    "# Desenhar o grafo com nós ajustados\n",
    "nx.draw(\n",
    "    G, \n",
    "    pos, \n",
    "    with_labels=False,  # Desativa os rótulos padrão\n",
    "    node_size=4500,     # Ajusta o tamanho dos nós\n",
    "    node_color='lightblue', \n",
    "    edge_color='gray'\n",
    ")\n",
    "\n",
    "# Adicionar rótulos personalizados nos nós (Nome e Duração)\n",
    "labels = nx.get_node_attributes(G, 'duração')\n",
    "custom_labels = {n: f\"{n}\\n{d} sem\" for n, d in labels.items()}\n",
    "nx.draw_networkx_labels(G, pos, labels=custom_labels, font_size=10)\n",
    "\n",
    "# Título e exibição\n",
    "plt.title(\"Diagrama de Rede PERT/CPM\", fontsize=14)\n",
    "plt.show()\n"
   ]
  }
 ],
 "metadata": {
  "kernelspec": {
   "display_name": "jupyterbook",
   "language": "python",
   "name": "python3"
  },
  "language_info": {
   "codemirror_mode": {
    "name": "ipython",
    "version": 3
   },
   "file_extension": ".py",
   "mimetype": "text/x-python",
   "name": "python",
   "nbconvert_exporter": "python",
   "pygments_lexer": "ipython3",
   "version": "3.13.0"
  }
 },
 "nbformat": 4,
 "nbformat_minor": 4
}
