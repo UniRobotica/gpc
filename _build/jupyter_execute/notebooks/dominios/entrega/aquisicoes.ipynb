{
 "cells": [
  {
   "cell_type": "markdown",
   "id": "da75d8c1",
   "metadata": {},
   "source": [
    "# Fundamentos de Aquisição para Engenharia Civil\n",
    "\n",
    "Neste notebook, vamos explorar os conceitos fundamentais de **aquisição** no contexto da engenharia civil, abordando os processos e práticas essenciais para garantir a eficácia na obtenção de materiais, serviços e recursos necessários para a execução de projetos de construção civil. Vamos também relacionar esses conceitos com as diretrizes do **PMBOK 7ª edição**, que é uma referência amplamente utilizada na gestão de projetos.\n",
    "\n",
    "## O que são Aquisições?\n",
    "A aquisição é o processo de obtenção de bens, serviços e resultados de fornecedores externos, de acordo com os requisitos do projeto. No contexto da engenharia civil, as aquisições podem envolver desde a compra de materiais de construção, como cimento, aço e madeira, até a contratação de serviços especializados, como mão-de-obra, engenharia de campo, e outros serviços essenciais.\n",
    "\n",
    "De acordo com o **PMBOK 7ª edição**, a aquisição faz parte de um grupo de práticas fundamentais para a gestão de projetos. As aquisições são vitais porque impactam diretamente nos custos, prazos e qualidade do projeto, especialmente em projetos de grande escala, como os encontrados na engenharia civil.\n",
    "\n",
    "## Importância das Aquisições na Engenharia Civil\n",
    "No setor de construção, as aquisições desempenham um papel crucial no sucesso do projeto. É necessário garantir que os materiais certos sejam adquiridos na quantidade e qualidade necessárias, dentro dos prazos e orçamento estabelecidos. A falha em gerenciar adequadamente as aquisições pode levar a atrasos significativos, aumento de custos e comprometimento da qualidade do produto final.\n",
    "\n",
    "### Processos de Aquisição no Ciclo de Vida de um Projeto de Construção\n",
    "O gerenciamento de aquisições é realizado ao longo de várias fases do ciclo de vida de um projeto. As principais etapas incluem:\n",
    "\n",
    "1. **Planejamento das Aquisições**: Definir o que será adquirido, por que será adquirido, e como os fornecedores serão selecionados.\n",
    "2. **Solicitação de Propostas**: Enviar solicitações formais para fornecedores para obtenção de orçamentos ou propostas.\n",
    "3. **Seleção de Fornecedores**: Avaliar propostas e selecionar os fornecedores que atenderão melhor às necessidades do projeto.\n",
    "4. **Gerenciamento de Contratos**: Gerenciar a execução dos contratos, garantindo que os fornecedores cumpram suas obrigações.\n",
    "5. **Encerramento das Aquisições**: Finalizar os contratos e garantir que todos os itens adquiridos tenham sido entregues e atendam aos requisitos.\n",
    "\n",
    "### Exemplos de Aquisições em Engenharia Civil\n",
    "Em um projeto de construção civil, as aquisições podem incluir, mas não se limitam a:\n",
    "\n",
    "- **Materiais de Construção**: cimento, aço, madeira, concreto, etc.\n",
    "- **Equipamentos de Construção**: guindastes, betoneiras, caminhões, etc.\n",
    "- **Serviços de Engenharia**: consultoria, estudos técnicos, projetos estruturais e arquitetônicos.\n",
    "- **Mão de Obra Especializada**: pedreiros, eletricistas, encanadores, etc.\n",
    "\n",
    "Essas aquisições devem ser realizadas com base em uma análise detalhada das necessidades do projeto e dos fornecedores disponíveis no mercado.\n",
    "\n",
    "## PMBOK 7ª Edição e as Aquisições\n",
    "A 7ª edição do PMBOK enfatiza a importância das aquisições de maneira integrada com outras áreas de conhecimento, como os **riscos**, **custos** e **qualidade**. O processo de aquisição não é apenas uma questão de compra, mas uma parte estratégica do projeto.\n",
    "\n",
    "Alguns princípios destacados na 7ª edição incluem:\n",
    "\n",
    "- **Agilidade nas Aquisições**: A capacidade de adaptar as aquisições às necessidades emergentes do projeto, especialmente em projetos com características de incerteza e mudanças frequentes.\n",
    "- **Colaboração com Fornecedores**: Trabalhar de forma colaborativa com os fornecedores, estabelecendo uma relação de confiança e entendimento mútuo.\n",
    "- **Foco no Valor para o Projeto**: As aquisições devem ser feitas com foco no valor agregado ao projeto, e não apenas na redução de custos.\n",
    "\n",
    "## Conclusão\n",
    "O gerenciamento de aquisições é uma competência essencial para engenheiros civis, pois garante que todos os recursos necessários para o sucesso do projeto sejam adquiridos de maneira eficiente. O PMBOK 7ª edição oferece um framework flexível para gerenciar aquisições, promovendo uma abordagem mais ágil e colaborativa, que se aplica diretamente ao setor de engenharia civil."
   ]
  },
  {
   "cell_type": "markdown",
   "id": "c00a4182",
   "metadata": {},
   "source": [
    "## Exercício Prático: Planejamento de Aquisições para um Projeto de Construção\n",
    "\n",
    "Agora, vamos realizar um exercício prático onde você irá planejar as aquisições para um pequeno projeto de construção civil, levando em consideração as etapas descritas anteriormente.\n",
    "\n",
    "### Passos para o Exercício:\n",
    "1. **Defina as necessidades do projeto**: O que você precisa adquirir para o projeto?\n",
    "2. **Selecione os fornecedores**: Quem pode fornecer o que você precisa?\n",
    "3. **Determine o orçamento**: Qual é o orçamento disponível para as aquisições?\n",
    "4. **Estabeleça os prazos**: Quando os materiais e serviços precisam ser entregues?\n",
    "\n",
    "Use as ferramentas que você aprendeu neste notebook para criar seu plano de aquisições!"
   ]
  }
 ],
 "metadata": {
  "kernelspec": {
   "display_name": "jupyterbook",
   "language": "python",
   "name": "python3"
  },
  "language_info": {
   "codemirror_mode": {
    "name": "ipython",
    "version": 3
   },
   "name": "python",
   "version": "3.13.0"
  }
 },
 "nbformat": 4,
 "nbformat_minor": 5
}