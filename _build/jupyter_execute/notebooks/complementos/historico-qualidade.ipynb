{
 "cells": [
  {
   "cell_type": "markdown",
   "metadata": {},
   "source": [
    "### Histórico da Qualidade e os Pais da Qualidade\n",
    "\n",
    "#### Pré-História da Qualidade\n",
    "\n",
    "O conceito de **qualidade** remonta a tempos antigos, com exemplos notáveis da **construção das Pirâmides do Egito** (cerca de 2600 a.C.), onde a precisão e a durabilidade foram fundamentais. Na **Roma Antiga**, o Império Romano foi famoso por suas **infraestruturas** de qualidade, como estradas e aquedutos, projetadas para durar séculos, com foco na **durabilidade** e no **desempenho** dos produtos.\n",
    "\n",
    "#### Revolução Industrial (Séculos XVIII e XIX)\n",
    "\n",
    "A **Revolução Industrial** trouxe a necessidade de **controle de qualidade** para produção em massa. A crescente fabricação em larga escala de bens dificultou a manutenção de altos padrões sem um sistema formal de controle. Nesse período, surgiram os primeiros sistemas de **inspeção** e **controle de qualidade** .\n",
    "\n",
    "#### Início do Século XX - Fundamentos da Qualidade Moderna\n",
    "\n",
    "No início do século XX, pioneiros como:\n",
    "\n",
    "1. **Frederick Taylor** (1856-1915) - **Administração Científica**  \n",
    "   Taylor introduziu a **racionalização do trabalho** e a **padronização**, otimizando processos operacionais para melhorar a qualidade e a eficiência {cite:t}`Taylor1915`.\n",
    "\n",
    "2. **Walter A. Shewhart** (1891-1967) - **Controle Estatístico de Qualidade (SPC)**  \n",
    "   Shewhart desenvolveu o **controle estatístico de qualidade**, usando gráficos e dados para monitorar e melhorar os processos. Ele também criou o ciclo **PDCA** (Plan-Do-Check-Act) {cite:p}`Shewhart1931`.\n",
    "\n",
    "3. **W. Edwards Deming** (1900-1993) - **Qualidade e Produtividade**  \n",
    "   Deming foi um dos **pais da qualidade** e popularizou o **controle estatístico de qualidade** e a **melhoria contínua** no Japão pós-Segunda Guerra Mundial, destacando a importância da **gestão** na qualidade {cite:t}`Deming1982`.\n",
    "\n",
    "4. **Joseph Juran** (1904-2008) - **Gestão da Qualidade**  \n",
    "   Juran, outro dos **pais da qualidade**, ampliou a visão sobre qualidade, defendendo que ela deve ser responsabilidade de toda a organização, não apenas de engenheiros. Ele introduziu o conceito de **custo da qualidade** e o **Ciclo Juran**: **Planejar, Controlar e Melhorar** {cite:p}`Juran1989`.\n",
    "\n",
    "#### O Movimento da Qualidade Total (TQM)\n",
    "\n",
    "Nos anos 1980 e 1990, surgiu o conceito de **Qualidade Total** (TQM - Total Quality Management), que enfatiza a **melhoria contínua** e o **envolvimento de todos** na organização, com foco na **satisfação do cliente**. As principais figuras do TQM incluem:\n",
    "\n",
    "- **Kaoru Ishikawa**: Criador do **diagrama de causa e efeito** (diagrama de espinha de peixe) {cite:p}`Ishikawa1976`.\n",
    "- **Genichi Taguchi**: Desenvolveu o **Método Taguchi**, utilizando experimentos para melhorar a qualidade {cite:t}`Taguchi1986`.\n",
    "\n",
    "#### Qualidade no Século XXI\n",
    "\n",
    "A qualidade no século XXI continua a evoluir com novas abordagens como a **Gestão Seis Sigma**, focada na **eliminação de defeitos** e na **redução da variação** nos processos. A **ISO 9001** tornou-se uma das normas de qualidade mais adotadas globalmente, estabelecendo uma estrutura para a gestão da qualidade em diversas empresas {cite:t}`ISO9001`.\n",
    "\n",
    "---\n",
    "\n",
    "####  Os Pais da Qualidade\n",
    "\n",
    "Os **pais da qualidade** são indivíduos que tiveram um impacto fundamental no desenvolvimento dos conceitos e práticas que hoje formam a base da **gestão da qualidade** e da **melhoria contínua**. Eles são amplamente reconhecidos por suas contribuições que mudaram a forma como as organizações abordam a qualidade. Entre os mais notáveis estão:\n",
    "\n",
    "- **Frederick Taylor**, por sua introdução à **Administração Científica**.\n",
    "- **Walter A. Shewhart**, considerado o pai do **controle estatístico de qualidade** e responsável pela criação do ciclo **PDCA**.\n",
    "- **W. Edwards Deming**, cuja aplicação de métodos de controle estatístico e de gestão de qualidade no Japão pós-Segunda Guerra Mundial foi crucial para o desenvolvimento da qualidade moderna.\n",
    "- **Joseph Juran**, que ampliou a gestão de qualidade para um conceito corporativo mais abrangente e introduziu o conceito de **custo da qualidade**.\n",
    "- **Kaoru Ishikawa** e **Genichi Taguchi**, que inovaram no desenvolvimento de métodos como o **diagrama de causa e efeito** e o **Método Taguchi**, respectivamente, para a análise e melhoria da qualidade.\n",
    "\n",
    "Esses profissionais são considerados fundamentais na formação do campo da **qualidade total** e continuam a influenciar as práticas de gestão da qualidade até os dias de hoje.\n"
   ]
  }
 ],
 "metadata": {
  "language_info": {
   "name": "python"
  }
 },
 "nbformat": 4,
 "nbformat_minor": 2
}