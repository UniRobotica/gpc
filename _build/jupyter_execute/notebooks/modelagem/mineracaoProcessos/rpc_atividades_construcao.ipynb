{
 "cells": [
  {
   "cell_type": "markdown",
   "id": "1fc299c7",
   "metadata": {},
   "source": [
    "\n",
    "# Modelagem de Precedência com Redes de Petri Coloridas (CPN)\n",
    "### Aula prática usando o CPN IDE\n",
    "\n",
    "Este notebook apresenta passo a passo a construção de um modelo de controle de precedência de atividades utilizando **Redes de Petri Coloridas (CPN)** no **CPN IDE**.\n",
    "\n",
    "O objetivo é garantir que:\n",
    "- As atividades `A` e `B` podem ser executadas de forma independente.\n",
    "- A atividade `C` **só pode ser executada após a conclusão de A e B**.\n",
    "\n",
    "\n"
   ]
  },
  {
   "cell_type": "markdown",
   "id": "a5371003",
   "metadata": {},
   "source": [
    "\n",
    "## 1. Criando o projeto\n",
    "\n",
    "Abra o CPN IDE e crie um novo projeto (`File > New Project`). Nomeie como **\"ConstrucaoCivil\"**.\n",
    "\n",
    "## 2. Declarando os tipos\n",
    "\n",
    "Na aba **Declarations**, insira:\n",
    "\n",
    "```\n",
    "colset ATIV = with INICIO | A | B | C;\n",
    "```\n",
    "\n",
    "Esse tipo será usado para representar as atividades do fluxo de trabalho.\n"
   ]
  },
  {
   "cell_type": "markdown",
   "id": "d824aa07",
   "metadata": {},
   "source": [
    "\n",
    "## 3. Criando a estrutura da rede\n",
    "\n",
    "A rede deve conter os seguintes lugares e transições:\n",
    "\n",
    "### Lugares\n",
    "- `INICIO`: lugar inicial com token `INICIO`.\n",
    "- `A_PREC_OK`, `B_PREC_OK`\n",
    "- `A_IN`, `B_IN`\n",
    "- `A_EXEC`, `B_EXEC`\n",
    "- `A_FIN`, `B_FIN`\n",
    "- `A_OK`, `B_OK`\n",
    "- `C_PREC_OK`\n",
    "- `C_IN`, `C_EXEC`, `C_FIN`, `C_OK`\n",
    "\n",
    "### Transições\n",
    "- `INICIAR`\n",
    "- `IN_C` (inicia C se A e B estiverem concluídas)\n"
   ]
  },
  {
   "cell_type": "markdown",
   "id": "f7de9451",
   "metadata": {},
   "source": [
    "\n",
    "## 5. Simulação passo a passo\n",
    "\n",
    "1. Clique em `Start simulation`\n",
    "2. Dispare `INICIAR`\n",
    "3. Execute os fluxos de `A` e `B`\n",
    "4. Quando ambos estiverem concluídos, `IN_C` será habilitada\n",
    "5. Complete a atividade `C`\n"
   ]
  },
  {
   "cell_type": "markdown",
   "id": "8ee40bad",
   "metadata": {},
   "source": [
    "\n",
    "## Conclusão\n",
    "\n",
    "O modelo demonstra como representar **restrições de precedência** com CPN.\n",
    "\n",
    "Você pode expandir para outros fluxos complexos (por exemplo, D após C, ou E após A e D).\n",
    "\n",
    "[Repositório com o modelo no GitHub](https://github.com/UniRobotica/Petri-nets/blob/main/Exemplos/ConstrucaoCivil.cpn)\n"
   ]
  }
 ],
 "metadata": {
  "language_info": {
   "name": "python"
  }
 },
 "nbformat": 4,
 "nbformat_minor": 5
}